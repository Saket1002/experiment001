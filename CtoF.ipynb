{
  "nbformat": 4,
  "nbformat_minor": 0,
  "metadata": {
    "colab": {
      "name": "CtoF.ipynb",
      "provenance": [],
      "collapsed_sections": [],
      "authorship_tag": "ABX9TyMJfPyzZdJSemHLrr4hpLhK",
      "include_colab_link": true
    },
    "kernelspec": {
      "name": "python3",
      "display_name": "Python 3"
    },
    "language_info": {
      "name": "python"
    }
  },
  "cells": [
    {
      "cell_type": "markdown",
      "metadata": {
        "id": "view-in-github",
        "colab_type": "text"
      },
      "source": [
        "<a href=\"https://colab.research.google.com/github/Saket1002/experiment001/blob/master/CtoF.ipynb\" target=\"_parent\"><img src=\"https://colab.research.google.com/assets/colab-badge.svg\" alt=\"Open In Colab\"/></a>"
      ]
    },
    {
      "cell_type": "code",
      "metadata": {
        "id": "qYAx9V-ZE3S_"
      },
      "source": [
        "import tensorflow as tf\n",
        "import numpy as np\n"
      ],
      "execution_count": 2,
      "outputs": []
    },
    {
      "cell_type": "markdown",
      "metadata": {
        "id": "LQZNX2iwp1mh"
      },
      "source": [
        "Following is our input and output vectors"
      ]
    },
    {
      "cell_type": "code",
      "metadata": {
        "id": "hErSUHmzLO0V"
      },
      "source": [
        "x_celsius  = np.array([-40, -10,  0,  8, 15, 22,  38], dtype=float)\n",
        "y_fahrenheit  = np.array([-40,  14, 32, 46, 59, 72, 100], dtype=float)\n"
      ],
      "execution_count": 3,
      "outputs": []
    },
    {
      "cell_type": "markdown",
      "metadata": {
        "id": "YbqbW7hVp8hK"
      },
      "source": [
        "We already know this is a simple linear problem. Hence we don't need a complex model to learn the relationship.\n",
        "\n",
        "We will create a simple model with single layer , single unit and no activation \n",
        "input_shape=[1] specifies that each input is an array of size 1, \n",
        "units=1 specifies that this layer will have only one unit. \n",
        "\n",
        "\n",
        "\n",
        "Note : \n",
        "\n",
        "loss function and optimizer can be provided by two ways. \n",
        "1. by name - in this case all hyperpaeameter values are taken as defaule.  Example 'mean_squared_error' for loss function.\n",
        "\n",
        "2. as an object, this allows hyperparameter tuning. Example tf.keras.optimizers.Adam(0.1) for optimizer.\n",
        "\n",
        "All three option below is valid configuration. However \"Adam\" will use default learning rate of 0.001 which is too small for this usecase."
      ]
    },
    {
      "cell_type": "code",
      "metadata": {
        "id": "oBLreGT8Lmcj"
      },
      "source": [
        "model = tf.keras.Sequential([\n",
        "    tf.keras.layers.Dense(units=1, input_shape=[1], name=\"Layer-1\")\n",
        "], name=\"CtoF\")\n",
        "\n",
        "model.compile(optimizer=tf.keras.optimizers.Adam(0.1) , loss='mean_squared_error')\n",
        "\n",
        "# other ways we can define optimizer and loss funtions.\n",
        "\n",
        "\n",
        "# model.compile(optimizer=tf.keras.optimizers.Adam(0.1) , loss=tf.keras.losses.MeanSquaredError())\n",
        "# model.compile(optimizer=\"Adam\" , loss='mean_squared_error')\n",
        " "
      ],
      "execution_count": 4,
      "outputs": []
    },
    {
      "cell_type": "markdown",
      "metadata": {
        "id": "4Sou-nguq5Jz"
      },
      "source": [
        "# Debugging tip 1. Check the model summery. \n",
        "Give specific name to model and layers- this will make reading summery easy."
      ]
    },
    {
      "cell_type": "code",
      "metadata": {
        "colab": {
          "base_uri": "https://localhost:8080/"
        },
        "id": "-B28h_p9WtV3",
        "outputId": "46adf8cb-37a8-4d8e-a6e0-f5d58e2f2c99"
      },
      "source": [
        "model.summary()"
      ],
      "execution_count": 5,
      "outputs": [
        {
          "output_type": "stream",
          "name": "stdout",
          "text": [
            "Model: \"CtoF\"\n",
            "_________________________________________________________________\n",
            "Layer (type)                 Output Shape              Param #   \n",
            "=================================================================\n",
            "Layer-1 (Dense)              (None, 1)                 2         \n",
            "=================================================================\n",
            "Total params: 2\n",
            "Trainable params: 2\n",
            "Non-trainable params: 0\n",
            "_________________________________________________________________\n"
          ]
        }
      ]
    },
    {
      "cell_type": "code",
      "metadata": {
        "id": "8YFXMLurRj4t"
      },
      "source": [
        "# train the model\n",
        "\n",
        "history = model.fit(x_celsius, y_fahrenheit, epochs=500, verbose=False)\n"
      ],
      "execution_count": 6,
      "outputs": []
    },
    {
      "cell_type": "code",
      "metadata": {
        "colab": {
          "base_uri": "https://localhost:8080/",
          "height": 278
        },
        "id": "YixGDUYfRvjO",
        "outputId": "2985726e-b1e3-47b5-aef5-b3a96634deb5"
      },
      "source": [
        "import matplotlib.pyplot as plt\n",
        "def draw_loss_curve(history):\n",
        "  plt.xlabel('Epoch Number')\n",
        "  plt.ylabel(\"Loss Magnitude\")\n",
        "  plt.plot(history.history['loss'])\n",
        "\n",
        "draw_loss_curve(history)"
      ],
      "execution_count": 7,
      "outputs": [
        {
          "output_type": "display_data",
          "data": {
            "image/png": "[encoded data removed]",
            "text/plain": [
              "<Figure size 432x288 with 1 Axes>"
            ]
          },
          "metadata": {
            "needs_background": "light"
          }
        }
      ]
    },
    {
      "cell_type": "code",
      "metadata": {
        "colab": {
          "base_uri": "https://localhost:8080/"
        },
        "id": "74CHYkS7Rx9q",
        "outputId": "87c590be-46f8-46d5-f5b3-e3d9c78abe1c"
      },
      "source": [
        "print(\"model predicted value for 100 degree C {} degree F\".format(model.predict([100.0])))\n",
        "print(\"actual value for 100 degree C {} degree F \".format(100*1.8+32))"
      ],
      "execution_count": 8,
      "outputs": [
        {
          "output_type": "stream",
          "name": "stdout",
          "text": [
            "model predicted value for 100 degree C [[211.33679]] degree F\n",
            "actual value for 100 degree C 212.0 degree F \n"
          ]
        }
      ]
    },
    {
      "cell_type": "code",
      "metadata": {
        "colab": {
          "base_uri": "https://localhost:8080/"
        },
        "id": "zfXAGMdSSTq_",
        "outputId": "3a311ac7-3ffc-4ed2-ffc5-aba2c6131c62"
      },
      "source": [
        "model.layers[0].get_weights()"
      ],
      "execution_count": 9,
      "outputs": [
        {
          "output_type": "execute_result",
          "data": {
            "text/plain": [
              "[array([[1.8207141]], dtype=float32), array([29.265387], dtype=float32)]"
            ]
          },
          "metadata": {},
          "execution_count": 9
        }
      ]
    },
    {
      "cell_type": "markdown",
      "metadata": {
        "id": "8cy8pprMrdhl"
      },
      "source": [
        "Conclusion : Learned weights are 1.82 and 29 against actual value of 1.8 and 32.  this is great as this took only 7 samples.\n"
      ]
    }
  ]
}