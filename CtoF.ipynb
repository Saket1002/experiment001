{
  "nbformat": 4,
  "nbformat_minor": 0,
  "metadata": {
    "colab": {
      "name": "CtoF.ipynb",
      "provenance": [],
      "collapsed_sections": [],
      "authorship_tag": "ABX9TyN/OLWJmX2FqfQFmTGhqjrh",
      "include_colab_link": true
    },
    "kernelspec": {
      "name": "python3",
      "display_name": "Python 3"
    },
    "language_info": {
      "name": "python"
    }
  },
  "cells": [
    {
      "cell_type": "markdown",
      "metadata": {
        "id": "view-in-github",
        "colab_type": "text"
      },
      "source": [
        "<a href=\"https://colab.research.google.com/github/Saket1002/experiment001/blob/master/CtoF.ipynb\" target=\"_parent\"><img src=\"https://colab.research.google.com/assets/colab-badge.svg\" alt=\"Open In Colab\"/></a>"
      ]
    },
    {
      "cell_type": "code",
      "metadata": {
        "id": "qYAx9V-ZE3S_"
      },
      "source": [
        "import tensorflow as tf\n",
        "import numpy as np\n"
      ],
      "execution_count": 1,
      "outputs": []
    },
    {
      "cell_type": "markdown",
      "metadata": {
        "id": "LQZNX2iwp1mh"
      },
      "source": [
        "Following is our input and output vectors"
      ]
    },
    {
      "cell_type": "code",
      "metadata": {
        "id": "hErSUHmzLO0V"
      },
      "source": [
        "x_celsius  = np.array([-40, -10,  0,  8, 15, 22,  38], dtype=float)\n",
        "y_fahrenheit  = np.array([-40,  14, 32, 46, 59, 72, 100], dtype=float)\n"
      ],
      "execution_count": 2,
      "outputs": []
    },
    {
      "cell_type": "markdown",
      "metadata": {
        "id": "YbqbW7hVp8hK"
      },
      "source": [
        "We already know this is a simple linear problem. Hence we don't need a complex model to learn the relationship.\n",
        "\n",
        "We will create a simple model with single layer , single unit and no activation \n",
        "input_shape=[1] specifies that each input is an array of size 1, \n",
        "units=1 specifies that this layer will have only one unit. \n",
        "\n",
        "\n",
        "\n",
        "Note : \n",
        "\n",
        "loss function and optimizer can be provided by two ways. \n",
        "1. by name - in this case all hyperpaeameter values are taken as defaule.  Example 'mean_squared_error' for loss function.\n",
        "\n",
        "2. as an object, this allows hyperparameter tuning. Example tf.keras.optimizers.Adam(0.1) for optimizer.\n",
        "\n",
        "All three option below is valid configuration. However \"Adam\" will use default learning rate of 0.001 which is too small for this usecase."
      ]
    },
    {
      "cell_type": "code",
      "metadata": {
        "id": "oBLreGT8Lmcj"
      },
      "source": [
        "model = tf.keras.Sequential([\n",
        "    tf.keras.layers.Dense(units=1, input_shape=[1], name=\"Layer-1\")\n",
        "], name=\"CtoF\")\n",
        "\n",
        "model.compile(optimizer=tf.keras.optimizers.Adam(0.1) , loss='mean_squared_error')\n",
        "\n",
        "# other ways we can define optimizer and loss funtions.\n",
        "\n",
        "\n",
        "# model.compile(optimizer=tf.keras.optimizers.Adam(0.1) , loss=tf.keras.losses.MeanSquaredError())\n",
        "# model.compile(optimizer=\"Adam\" , loss='mean_squared_error')\n",
        " "
      ],
      "execution_count": 3,
      "outputs": []
    },
    {
      "cell_type": "markdown",
      "metadata": {
        "id": "4Sou-nguq5Jz"
      },
      "source": [
        "# Debugging tip 1. Check the model summery. \n",
        "Give specific name to model and layers- this will make reading summery easy."
      ]
    },
    {
      "cell_type": "code",
      "metadata": {
        "colab": {
          "base_uri": "https://localhost:8080/"
        },
        "id": "-B28h_p9WtV3",
        "outputId": "55c672ef-b238-45fa-e31a-9e9d76ed30fc"
      },
      "source": [
        "model.summary()"
      ],
      "execution_count": 4,
      "outputs": [
        {
          "output_type": "stream",
          "name": "stdout",
          "text": [
            "Model: \"CtoF\"\n",
            "_________________________________________________________________\n",
            "Layer (type)                 Output Shape              Param #   \n",
            "=================================================================\n",
            "Layer-1 (Dense)              (None, 1)                 2         \n",
            "=================================================================\n",
            "Total params: 2\n",
            "Trainable params: 2\n",
            "Non-trainable params: 0\n",
            "_________________________________________________________________\n"
          ]
        }
      ]
    },
    {
      "cell_type": "code",
      "metadata": {
        "id": "8YFXMLurRj4t"
      },
      "source": [
        "# train the model\n",
        "\n",
        "history = model.fit(x_celsius, y_fahrenheit, epochs=500, verbose=False)\n"
      ],
      "execution_count": 5,
      "outputs": []
    },
    {
      "cell_type": "code",
      "metadata": {
        "colab": {
          "base_uri": "https://localhost:8080/",
          "height": 278
        },
        "id": "YixGDUYfRvjO",
        "outputId": "af231638-aec6-4587-879c-e1971a97ed1a"
      },
      "source": [
        "import matplotlib.pyplot as plt\n",
        "def draw_loss_curve(history):\n",
        "  plt.xlabel('Epoch Number')\n",
        "  plt.ylabel(\"Loss Magnitude\")\n",
        "  plt.plot(history.history['loss'])\n",
        "\n",
        "draw_loss_curve(history)"
      ],
      "execution_count": 6,
      "outputs": [
        {
          "output_type": "display_data",
          "data": {
            "image/png": "[encoded data removed]",
            "text/plain": [
              "<Figure size 432x288 with 1 Axes>"
            ]
          },
          "metadata": {
            "needs_background": "light"
          }
        }
      ]
    },
    {
      "cell_type": "code",
      "metadata": {
        "colab": {
          "base_uri": "https://localhost:8080/"
        },
        "id": "74CHYkS7Rx9q",
        "outputId": "23e096a7-6e8c-480e-9a57-2d01ed8a8ef7"
      },
      "source": [
        "print(\"model predicted value for 100 degree C {} degree F\".format(model.predict([100.0])))\n",
        "print(\"actual value for 100 degree C {} degree F \".format(100*1.8+32))"
      ],
      "execution_count": 7,
      "outputs": [
        {
          "output_type": "stream",
          "name": "stdout",
          "text": [
            "model predicted value for 100 degree C [[211.29959]] degree F\n",
            "actual value for 100 degree C 212.0 degree F \n"
          ]
        }
      ]
    },
    {
      "cell_type": "code",
      "metadata": {
        "colab": {
          "base_uri": "https://localhost:8080/"
        },
        "id": "zfXAGMdSSTq_",
        "outputId": "758d69ed-1b8a-4405-df2b-a043535c18a0"
      },
      "source": [
        "model.layers[0].get_weights()"
      ],
      "execution_count": 8,
      "outputs": [
        {
          "output_type": "execute_result",
          "data": {
            "text/plain": [
              "[array([[1.825712]], dtype=float32), array([28.728386], dtype=float32)]"
            ]
          },
          "metadata": {},
          "execution_count": 8
        }
      ]
    },
    {
      "cell_type": "markdown",
      "metadata": {
        "id": "3rM0eYrEyiwN"
      },
      "source": [
        ""
      ]
    },
    {
      "cell_type": "markdown",
      "metadata": {
        "id": "8cy8pprMrdhl"
      },
      "source": [
        "Conclusion : Learned weights are 1.82 and 28.56 against actual value of 1.8 and 32.  this is great as this took only 7 samples.\n"
      ]
    },
    {
      "cell_type": "markdown",
      "metadata": {
        "id": "MuwBTPXoykHM"
      },
      "source": [
        "**Lets try a small modification in the learning by adding a batch_size. This will force weights and bias to be updated multiple time in an epoch.**"
      ]
    },
    {
      "cell_type": "code",
      "metadata": {
        "id": "4DjCF8MesXhG"
      },
      "source": [
        "model2 = tf.keras.Sequential([\n",
        "    tf.keras.layers.Dense(units=1, input_shape=[1], name=\"Layer-1\")\n",
        "], name=\"CtoF_model2\")\n",
        "\n",
        "model2.compile(optimizer=tf.keras.optimizers.Adam(0.1) , loss='mean_squared_error')\n",
        "\n",
        "history2 = model2.fit(x_celsius, y_fahrenheit, epochs=500, batch_size=2, verbose=False)\n"
      ],
      "execution_count": 9,
      "outputs": []
    },
    {
      "cell_type": "code",
      "metadata": {
        "colab": {
          "base_uri": "https://localhost:8080/",
          "height": 278
        },
        "id": "noBqcV05z8ae",
        "outputId": "16c32449-a2e5-4970-badd-07f35ca0212e"
      },
      "source": [
        "draw_loss_curve(history2)"
      ],
      "execution_count": 10,
      "outputs": [
        {
          "output_type": "display_data",
          "data": {
            "image/png": "[encoded data removed]",
            "text/plain": [
              "<Figure size 432x288 with 1 Axes>"
            ]
          },
          "metadata": {
            "needs_background": "light"
          }
        }
      ]
    },
    {
      "cell_type": "code",
      "metadata": {
        "colab": {
          "base_uri": "https://localhost:8080/"
        },
        "id": "HdVA5x4Iz-N6",
        "outputId": "70b25876-7088-4d89-986d-92ce3dee15f3"
      },
      "source": [
        "print(\"model predicted value for 100 degree C {} degree F\".format(model2.predict([100.0])))\n",
        "print(\"actual value for 100 degree C {} degree F \".format(100*1.8+32))\n",
        "\n",
        "model2.layers[0].get_weights()"
      ],
      "execution_count": 11,
      "outputs": [
        {
          "output_type": "stream",
          "name": "stdout",
          "text": [
            "model predicted value for 100 degree C [[211.43887]] degree F\n",
            "actual value for 100 degree C 212.0 degree F \n"
          ]
        },
        {
          "output_type": "execute_result",
          "data": {
            "text/plain": [
              "[array([[1.7949296]], dtype=float32), array([31.94591], dtype=float32)]"
            ]
          },
          "metadata": {},
          "execution_count": 11
        }
      ]
    },
    {
      "cell_type": "markdown",
      "metadata": {
        "id": "wv_jfLLC0BYC"
      },
      "source": [
        "# Conclusion \n",
        "\n",
        "just by adding batch_size=2 while training we have improved the model learning.\n",
        "\n",
        "\n",
        "not the weight and bias are 1.79 and 31.95 agains actual of 1.8 and 32."
      ]
    }
  ]
}